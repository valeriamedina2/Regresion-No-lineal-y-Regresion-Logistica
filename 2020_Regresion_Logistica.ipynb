{
  "nbformat": 4,
  "nbformat_minor": 0,
  "metadata": {
    "colab": {
      "provenance": [],
      "include_colab_link": true
    },
    "kernelspec": {
      "name": "python3",
      "display_name": "Python 3"
    },
    "language_info": {
      "name": "python"
    }
  },
  "cells": [
    {
      "cell_type": "markdown",
      "metadata": {
        "id": "view-in-github",
        "colab_type": "text"
      },
      "source": [
        "<a href=\"https://colab.research.google.com/github/valeriamedina2/Regresion-No-lineal-y-Regresion-Logistica/blob/main/2020_Regresion_Logistica.ipynb\" target=\"_parent\"><img src=\"https://colab.research.google.com/assets/colab-badge.svg\" alt=\"Open In Colab\"/></a>"
      ]
    },
    {
      "cell_type": "markdown",
      "source": [
        "**GASTOS 2020**"
      ],
      "metadata": {
        "id": "Mq8A48nePhXs"
      }
    },
    {
      "cell_type": "code",
      "execution_count": null,
      "metadata": {
        "id": "38EWRjuebp99"
      },
      "outputs": [],
      "source": [
        "#Cargamos librerias\n",
        "import pandas as pd\n",
        "import numpy as np\n",
        "import matplotlib.pyplot as plt\n",
        "import scipy.special as special\n",
        "from scipy.optimize import curve_fit\n",
        "import seaborn as sns\n",
        "from sklearn.metrics import r2_score\n",
        "from sklearn.model_selection import train_test_split\n",
        "from sklearn.preprocessing import StandardScaler"
      ]
    },
    {
      "cell_type": "code",
      "source": [
        "df = pd.read_csv('Gastos y costos 20-23_2020_sin_nulos (1).csv')"
      ],
      "metadata": {
        "id": "cHHpyZm2SL6d"
      },
      "execution_count": null,
      "outputs": []
    },
    {
      "cell_type": "code",
      "source": [
        "#Verificar los valores sin repetirse de una columna\n",
        "unico = np.unique(df['TIPO GASTO'])\n",
        "unico"
      ],
      "metadata": {
        "colab": {
          "base_uri": "https://localhost:8080/"
        },
        "id": "cDkluYt8TiTA",
        "outputId": "7ec62b70-52fb-4237-89e3-f735fafe63b0"
      },
      "execution_count": null,
      "outputs": [
        {
          "output_type": "execute_result",
          "data": {
            "text/plain": [
              "array(['ALIMENTOS', 'ARRENDAMIENTO FINANCIERO', 'ARRENDAMIENTO LOCAL',\n",
              "       'ATENCION CLIENTES', 'CALIBRACIONES', 'CAPACITACION',\n",
              "       'COMBUSTIBLE', 'COMISION BANCARIA', 'COMISION VENTA', 'COMPRAS',\n",
              "       'DERECHOS', 'ENERGIA ELECTRICA', 'FLETES', 'GERENCIA ADMON',\n",
              "       'GERENCIA VTAS', 'HONORARIOS ADMON', 'HONORARIOS CONTABLES',\n",
              "       'HONORARIOS PM', 'HOSPEDAJE', 'IMSS/INFONAVIT', 'MAQUILAS GIC',\n",
              "       'MAQUINARIA', 'MEDICOS', 'MENSAJERIA', 'MOBILIARIO',\n",
              "       'MTTO COMPUTO', 'MTTO LOCAL', 'MTTO TRANSPORTE', 'NO DEDUCIBLE',\n",
              "       'PAPELERIA', 'PAQUETERIA', 'PEAJES', 'PUBLICIDAD',\n",
              "       'REPARACIONES ELECTRICAS', 'SEGUROS', 'SERV FUNERARIO ',\n",
              "       'SUBCONTRATOS', 'SUSCRIPCIONES', 'TELEFONO', 'TRANSPORTE',\n",
              "       'UNIFORME', 'VALES DESPENSA'], dtype=object)"
            ]
          },
          "metadata": {},
          "execution_count": 252
        }
      ]
    },
    {
      "cell_type": "code",
      "source": [
        "#Convierto una variable a dicotómica \n",
        "df['TIPO GASTO']= df['TIPO GASTO'].replace(['COMPRAS '], \"COMPRAS\")"
      ],
      "metadata": {
        "id": "6QHFe8MGW84f"
      },
      "execution_count": null,
      "outputs": []
    },
    {
      "cell_type": "code",
      "source": [
        "#Convierto una variable a dicotómica \n",
        "df['TIPO GASTO']= df['TIPO GASTO'].replace(['ALIMENTOS', 'ARRENDAMIENTO FINANCIERO', 'ARRENDAMIENTO LOCAL',\n",
        "       'ATENCION CLIENTES', 'CALIBRACIONES', 'CAPACITACION',\n",
        "       'COMBUSTIBLE', 'COMISION BANCARIA', 'COMISION VENTA',\n",
        "       'DERECHOS', 'ENERGIA ELECTRICA', 'FLETES', 'GERENCIA ADMON',\n",
        "       'GERENCIA VTAS', 'HONORARIOS ADMON', 'HONORARIOS CONTABLES',\n",
        "       'HONORARIOS PM', 'HOSPEDAJE', 'IMSS/INFONAVIT', 'MAQUILAS GIC',\n",
        "       'MAQUINARIA', 'MEDICOS', 'MENSAJERIA', 'MOBILIARIO',\n",
        "       'MTTO COMPUTO', 'MTTO LOCAL', 'MTTO TRANSPORTE', 'NO DEDUCIBLE',\n",
        "       'PAPELERIA', 'PAQUETERIA', 'PEAJES', 'PUBLICIDAD',\n",
        "       'REPARACIONES ELECTRICAS', 'SEGUROS', 'SERV FUNERARIO ',\n",
        "       'SUBCONTRATOS', 'SUSCRIPCIONES', 'TELEFONO', 'TRANSPORTE',\n",
        "       'UNIFORME', 'VALES DESPENSA'], \"OTROS GASTOS\")\n",
        "df"
      ],
      "metadata": {
        "id": "-nCroZG2TmBU",
        "colab": {
          "base_uri": "https://localhost:8080/",
          "height": 693
        },
        "outputId": "f3ca2e7c-82f4-4e7c-9290-23276051af66"
      },
      "execution_count": null,
      "outputs": [
        {
          "output_type": "execute_result",
          "data": {
            "text/plain": [
              "      Unnamed: 0       FECHA                   FOLIO  \\\n",
              "0              0  2020-01-01                   39408   \n",
              "1              1  2020-01-01  0001010100750847116902   \n",
              "2              2  2020-01-01  0001010100752163714102   \n",
              "3              3  2020-01-01                    3663   \n",
              "4              4  2020-01-01                    2849   \n",
              "...          ...         ...                     ...   \n",
              "3337        3337  2020-12-01                  125834   \n",
              "3338        3338  2020-12-01                   37652   \n",
              "3339        3339  2020-12-01                     160   \n",
              "3340        3340  2020-12-01                  634875   \n",
              "3341        3341  2020-12-01                 1044477   \n",
              "\n",
              "                                      UUID           RFC  \\\n",
              "0     BD20F436-72CC-4BE2-AD37-5999D71AA391  ARE080115PBA   \n",
              "1     85AEAC2E-6395-44A0-9CB9-754D06893375  BNM840515VB1   \n",
              "2     BD0DFE85-D776-41CB-9C5C-4FA7923E687A  BNM840515VB1   \n",
              "3     EF4504D6-830D-415C-AF03-80CF54C5E28E  PSS120625C86   \n",
              "4     EC2F4AA4-BA64-4E2E-A5B7-4EBBE042D6D3  ENA7006081P0   \n",
              "...                                    ...           ...   \n",
              "3337  80BCB1D8-673F-495B-9C2A-4AC9F9CB38E5  SQS110113MU0   \n",
              "3338  D4C7C1FB-03A7-4046-A2BD-03EBE7DA861E  PSQ790724C90   \n",
              "3339  FFCEE7D4-1F38-4D44-BE02-EB042DAACEE7  SQX981027RY5   \n",
              "3340  8DFF4F01-2F8B-4085-B116-05A314108B02  BIN940223KE0   \n",
              "3341  F18225D6-4024-4F03-A15A-D18917386D59  EFE8908015L3   \n",
              "\n",
              "                                              PROVEEDOR    TIPO GASTO   GASTO  \\\n",
              "0                                   ARSI RENTA SA DE CV  OTROS GASTOS      --   \n",
              "1                        BANCO NACIONAL DE MEXICO, S.A.  OTROS GASTOS      --   \n",
              "2                        BANCO NACIONAL DE MEXICO, S.A.  OTROS GASTOS      --   \n",
              "3     PROMOTORA DE SERVICIOS Y SOLUCIONES EMPRESARIA...  OTROS GASTOS      --   \n",
              "4                      ELECTROTERMICA NACIONAL SA DE CV       COMPRAS      --   \n",
              "...                                                 ...           ...     ...   \n",
              "3337                   SERVICIO QUINTANA SUR S.A DE C.V  OTROS GASTOS   G VTA   \n",
              "3338  CIA. PERIODISTICA DEL SOL DE QUERETARO, S.A. D...  OTROS GASTOS   G VTA   \n",
              "3339                            SUPER Q, S. A. DE C. V.  OTROS GASTOS   G VTA   \n",
              "3340  BANCO INVEX, S.A., INSTITUCION DE BANCA MULTIP...  OTROS GASTOS  G FINA   \n",
              "3341                      EFECTIVALE S. de R.L. de C.V.  OTROS GASTOS   G VTA   \n",
              "\n",
              "                                            DESCRIPCION   TC   IMPORTE  \\\n",
              "0     Descripción: REVOLVEDORA, Modelo: ULTRAMP9A, M...  1.0      0.00   \n",
              "1                                      COMISION COBRADA  1.0    490.00   \n",
              "2                                      COMISION COBRADA  1.0    195.00   \n",
              "3      HONORARIOS CONTABLES\\nDEL MES DE ENERO DEL 2020.  1.0  10694.25   \n",
              "4                                                  Pago  1.0      0.00   \n",
              "...                                                 ...  ...       ...   \n",
              "3337                                        32011 MAGNA  1.0    129.79   \n",
              "3338   82101504-PUBLICIDAD EN PERIODICOSCALOR Y CONTROL  1.0   2284.80   \n",
              "3339                  REF VICTORIA GROSELLA 3 LT PET NR  1.0    163.79   \n",
              "3340                             COMISIONES E INTERESES  1.0      0.00   \n",
              "3341  CONSUMOS DE COMBUSTIBLE DE MONEDEROS ELECTRONICOS  1.0  14889.29   \n",
              "\n",
              "          IVA  RET ISR  RET IVA  TOTAL MX  TOTAL SAT TIPO   STATUS POLIZA  \\\n",
              "0     2248.28      0.0      0.0   2248.28   16300.00    I  Vigente     --   \n",
              "1       78.40      0.0      0.0    568.40     568.40    I  Vigente     --   \n",
              "2       31.20      0.0      0.0    226.20     226.20    I  Vigente     --   \n",
              "3     1711.08      0.0      0.0  12405.33   12405.33    I  Vigente     --   \n",
              "4        0.00      0.0      0.0      0.00       0.00    P  Vigente     --   \n",
              "...       ...      ...      ...       ...        ...  ...      ...    ...   \n",
              "3337    20.21      0.0      0.0    150.00     150.00    I  Vigente     --   \n",
              "3338   365.57      0.0      0.0   2650.37    2650.37    I  Vigente     --   \n",
              "3339    26.21      0.0      0.0    190.00     190.00    I  Vigente     --   \n",
              "3340     0.00      0.0      0.0      0.00       0.00    I  Vigente     --   \n",
              "3341     0.00      0.0      0.0  14889.29   14889.29    I  Vigente     --   \n",
              "\n",
              "      Columna1  \n",
              "0     14051.72  \n",
              "1         0.00  \n",
              "2         0.00  \n",
              "3         0.00  \n",
              "4         0.00  \n",
              "...        ...  \n",
              "3337      0.00  \n",
              "3338      0.00  \n",
              "3339      0.00  \n",
              "3340      0.00  \n",
              "3341      0.00  \n",
              "\n",
              "[3342 rows x 20 columns]"
            ],
            "text/html": [
              "\n",
              "  <div id=\"df-de3cd4dd-2dbd-456f-8d88-3d0434f61cd0\">\n",
              "    <div class=\"colab-df-container\">\n",
              "      <div>\n",
              "<style scoped>\n",
              "    .dataframe tbody tr th:only-of-type {\n",
              "        vertical-align: middle;\n",
              "    }\n",
              "\n",
              "    .dataframe tbody tr th {\n",
              "        vertical-align: top;\n",
              "    }\n",
              "\n",
              "    .dataframe thead th {\n",
              "        text-align: right;\n",
              "    }\n",
              "</style>\n",
              "<table border=\"1\" class=\"dataframe\">\n",
              "  <thead>\n",
              "    <tr style=\"text-align: right;\">\n",
              "      <th></th>\n",
              "      <th>Unnamed: 0</th>\n",
              "      <th>FECHA</th>\n",
              "      <th>FOLIO</th>\n",
              "      <th>UUID</th>\n",
              "      <th>RFC</th>\n",
              "      <th>PROVEEDOR</th>\n",
              "      <th>TIPO GASTO</th>\n",
              "      <th>GASTO</th>\n",
              "      <th>DESCRIPCION</th>\n",
              "      <th>TC</th>\n",
              "      <th>IMPORTE</th>\n",
              "      <th>IVA</th>\n",
              "      <th>RET ISR</th>\n",
              "      <th>RET IVA</th>\n",
              "      <th>TOTAL MX</th>\n",
              "      <th>TOTAL SAT</th>\n",
              "      <th>TIPO</th>\n",
              "      <th>STATUS</th>\n",
              "      <th>POLIZA</th>\n",
              "      <th>Columna1</th>\n",
              "    </tr>\n",
              "  </thead>\n",
              "  <tbody>\n",
              "    <tr>\n",
              "      <th>0</th>\n",
              "      <td>0</td>\n",
              "      <td>2020-01-01</td>\n",
              "      <td>39408</td>\n",
              "      <td>BD20F436-72CC-4BE2-AD37-5999D71AA391</td>\n",
              "      <td>ARE080115PBA</td>\n",
              "      <td>ARSI RENTA SA DE CV</td>\n",
              "      <td>OTROS GASTOS</td>\n",
              "      <td>--</td>\n",
              "      <td>Descripción: REVOLVEDORA, Modelo: ULTRAMP9A, M...</td>\n",
              "      <td>1.0</td>\n",
              "      <td>0.00</td>\n",
              "      <td>2248.28</td>\n",
              "      <td>0.0</td>\n",
              "      <td>0.0</td>\n",
              "      <td>2248.28</td>\n",
              "      <td>16300.00</td>\n",
              "      <td>I</td>\n",
              "      <td>Vigente</td>\n",
              "      <td>--</td>\n",
              "      <td>14051.72</td>\n",
              "    </tr>\n",
              "    <tr>\n",
              "      <th>1</th>\n",
              "      <td>1</td>\n",
              "      <td>2020-01-01</td>\n",
              "      <td>0001010100750847116902</td>\n",
              "      <td>85AEAC2E-6395-44A0-9CB9-754D06893375</td>\n",
              "      <td>BNM840515VB1</td>\n",
              "      <td>BANCO NACIONAL DE MEXICO, S.A.</td>\n",
              "      <td>OTROS GASTOS</td>\n",
              "      <td>--</td>\n",
              "      <td>COMISION COBRADA</td>\n",
              "      <td>1.0</td>\n",
              "      <td>490.00</td>\n",
              "      <td>78.40</td>\n",
              "      <td>0.0</td>\n",
              "      <td>0.0</td>\n",
              "      <td>568.40</td>\n",
              "      <td>568.40</td>\n",
              "      <td>I</td>\n",
              "      <td>Vigente</td>\n",
              "      <td>--</td>\n",
              "      <td>0.00</td>\n",
              "    </tr>\n",
              "    <tr>\n",
              "      <th>2</th>\n",
              "      <td>2</td>\n",
              "      <td>2020-01-01</td>\n",
              "      <td>0001010100752163714102</td>\n",
              "      <td>BD0DFE85-D776-41CB-9C5C-4FA7923E687A</td>\n",
              "      <td>BNM840515VB1</td>\n",
              "      <td>BANCO NACIONAL DE MEXICO, S.A.</td>\n",
              "      <td>OTROS GASTOS</td>\n",
              "      <td>--</td>\n",
              "      <td>COMISION COBRADA</td>\n",
              "      <td>1.0</td>\n",
              "      <td>195.00</td>\n",
              "      <td>31.20</td>\n",
              "      <td>0.0</td>\n",
              "      <td>0.0</td>\n",
              "      <td>226.20</td>\n",
              "      <td>226.20</td>\n",
              "      <td>I</td>\n",
              "      <td>Vigente</td>\n",
              "      <td>--</td>\n",
              "      <td>0.00</td>\n",
              "    </tr>\n",
              "    <tr>\n",
              "      <th>3</th>\n",
              "      <td>3</td>\n",
              "      <td>2020-01-01</td>\n",
              "      <td>3663</td>\n",
              "      <td>EF4504D6-830D-415C-AF03-80CF54C5E28E</td>\n",
              "      <td>PSS120625C86</td>\n",
              "      <td>PROMOTORA DE SERVICIOS Y SOLUCIONES EMPRESARIA...</td>\n",
              "      <td>OTROS GASTOS</td>\n",
              "      <td>--</td>\n",
              "      <td>HONORARIOS CONTABLES\\nDEL MES DE ENERO DEL 2020.</td>\n",
              "      <td>1.0</td>\n",
              "      <td>10694.25</td>\n",
              "      <td>1711.08</td>\n",
              "      <td>0.0</td>\n",
              "      <td>0.0</td>\n",
              "      <td>12405.33</td>\n",
              "      <td>12405.33</td>\n",
              "      <td>I</td>\n",
              "      <td>Vigente</td>\n",
              "      <td>--</td>\n",
              "      <td>0.00</td>\n",
              "    </tr>\n",
              "    <tr>\n",
              "      <th>4</th>\n",
              "      <td>4</td>\n",
              "      <td>2020-01-01</td>\n",
              "      <td>2849</td>\n",
              "      <td>EC2F4AA4-BA64-4E2E-A5B7-4EBBE042D6D3</td>\n",
              "      <td>ENA7006081P0</td>\n",
              "      <td>ELECTROTERMICA NACIONAL SA DE CV</td>\n",
              "      <td>COMPRAS</td>\n",
              "      <td>--</td>\n",
              "      <td>Pago</td>\n",
              "      <td>1.0</td>\n",
              "      <td>0.00</td>\n",
              "      <td>0.00</td>\n",
              "      <td>0.0</td>\n",
              "      <td>0.0</td>\n",
              "      <td>0.00</td>\n",
              "      <td>0.00</td>\n",
              "      <td>P</td>\n",
              "      <td>Vigente</td>\n",
              "      <td>--</td>\n",
              "      <td>0.00</td>\n",
              "    </tr>\n",
              "    <tr>\n",
              "      <th>...</th>\n",
              "      <td>...</td>\n",
              "      <td>...</td>\n",
              "      <td>...</td>\n",
              "      <td>...</td>\n",
              "      <td>...</td>\n",
              "      <td>...</td>\n",
              "      <td>...</td>\n",
              "      <td>...</td>\n",
              "      <td>...</td>\n",
              "      <td>...</td>\n",
              "      <td>...</td>\n",
              "      <td>...</td>\n",
              "      <td>...</td>\n",
              "      <td>...</td>\n",
              "      <td>...</td>\n",
              "      <td>...</td>\n",
              "      <td>...</td>\n",
              "      <td>...</td>\n",
              "      <td>...</td>\n",
              "      <td>...</td>\n",
              "    </tr>\n",
              "    <tr>\n",
              "      <th>3337</th>\n",
              "      <td>3337</td>\n",
              "      <td>2020-12-01</td>\n",
              "      <td>125834</td>\n",
              "      <td>80BCB1D8-673F-495B-9C2A-4AC9F9CB38E5</td>\n",
              "      <td>SQS110113MU0</td>\n",
              "      <td>SERVICIO QUINTANA SUR S.A DE C.V</td>\n",
              "      <td>OTROS GASTOS</td>\n",
              "      <td>G VTA</td>\n",
              "      <td>32011 MAGNA</td>\n",
              "      <td>1.0</td>\n",
              "      <td>129.79</td>\n",
              "      <td>20.21</td>\n",
              "      <td>0.0</td>\n",
              "      <td>0.0</td>\n",
              "      <td>150.00</td>\n",
              "      <td>150.00</td>\n",
              "      <td>I</td>\n",
              "      <td>Vigente</td>\n",
              "      <td>--</td>\n",
              "      <td>0.00</td>\n",
              "    </tr>\n",
              "    <tr>\n",
              "      <th>3338</th>\n",
              "      <td>3338</td>\n",
              "      <td>2020-12-01</td>\n",
              "      <td>37652</td>\n",
              "      <td>D4C7C1FB-03A7-4046-A2BD-03EBE7DA861E</td>\n",
              "      <td>PSQ790724C90</td>\n",
              "      <td>CIA. PERIODISTICA DEL SOL DE QUERETARO, S.A. D...</td>\n",
              "      <td>OTROS GASTOS</td>\n",
              "      <td>G VTA</td>\n",
              "      <td>82101504-PUBLICIDAD EN PERIODICOSCALOR Y CONTROL</td>\n",
              "      <td>1.0</td>\n",
              "      <td>2284.80</td>\n",
              "      <td>365.57</td>\n",
              "      <td>0.0</td>\n",
              "      <td>0.0</td>\n",
              "      <td>2650.37</td>\n",
              "      <td>2650.37</td>\n",
              "      <td>I</td>\n",
              "      <td>Vigente</td>\n",
              "      <td>--</td>\n",
              "      <td>0.00</td>\n",
              "    </tr>\n",
              "    <tr>\n",
              "      <th>3339</th>\n",
              "      <td>3339</td>\n",
              "      <td>2020-12-01</td>\n",
              "      <td>160</td>\n",
              "      <td>FFCEE7D4-1F38-4D44-BE02-EB042DAACEE7</td>\n",
              "      <td>SQX981027RY5</td>\n",
              "      <td>SUPER Q, S. A. DE C. V.</td>\n",
              "      <td>OTROS GASTOS</td>\n",
              "      <td>G VTA</td>\n",
              "      <td>REF VICTORIA GROSELLA 3 LT PET NR</td>\n",
              "      <td>1.0</td>\n",
              "      <td>163.79</td>\n",
              "      <td>26.21</td>\n",
              "      <td>0.0</td>\n",
              "      <td>0.0</td>\n",
              "      <td>190.00</td>\n",
              "      <td>190.00</td>\n",
              "      <td>I</td>\n",
              "      <td>Vigente</td>\n",
              "      <td>--</td>\n",
              "      <td>0.00</td>\n",
              "    </tr>\n",
              "    <tr>\n",
              "      <th>3340</th>\n",
              "      <td>3340</td>\n",
              "      <td>2020-12-01</td>\n",
              "      <td>634875</td>\n",
              "      <td>8DFF4F01-2F8B-4085-B116-05A314108B02</td>\n",
              "      <td>BIN940223KE0</td>\n",
              "      <td>BANCO INVEX, S.A., INSTITUCION DE BANCA MULTIP...</td>\n",
              "      <td>OTROS GASTOS</td>\n",
              "      <td>G FINA</td>\n",
              "      <td>COMISIONES E INTERESES</td>\n",
              "      <td>1.0</td>\n",
              "      <td>0.00</td>\n",
              "      <td>0.00</td>\n",
              "      <td>0.0</td>\n",
              "      <td>0.0</td>\n",
              "      <td>0.00</td>\n",
              "      <td>0.00</td>\n",
              "      <td>I</td>\n",
              "      <td>Vigente</td>\n",
              "      <td>--</td>\n",
              "      <td>0.00</td>\n",
              "    </tr>\n",
              "    <tr>\n",
              "      <th>3341</th>\n",
              "      <td>3341</td>\n",
              "      <td>2020-12-01</td>\n",
              "      <td>1044477</td>\n",
              "      <td>F18225D6-4024-4F03-A15A-D18917386D59</td>\n",
              "      <td>EFE8908015L3</td>\n",
              "      <td>EFECTIVALE S. de R.L. de C.V.</td>\n",
              "      <td>OTROS GASTOS</td>\n",
              "      <td>G VTA</td>\n",
              "      <td>CONSUMOS DE COMBUSTIBLE DE MONEDEROS ELECTRONICOS</td>\n",
              "      <td>1.0</td>\n",
              "      <td>14889.29</td>\n",
              "      <td>0.00</td>\n",
              "      <td>0.0</td>\n",
              "      <td>0.0</td>\n",
              "      <td>14889.29</td>\n",
              "      <td>14889.29</td>\n",
              "      <td>I</td>\n",
              "      <td>Vigente</td>\n",
              "      <td>--</td>\n",
              "      <td>0.00</td>\n",
              "    </tr>\n",
              "  </tbody>\n",
              "</table>\n",
              "<p>3342 rows × 20 columns</p>\n",
              "</div>\n",
              "      <button class=\"colab-df-convert\" onclick=\"convertToInteractive('df-de3cd4dd-2dbd-456f-8d88-3d0434f61cd0')\"\n",
              "              title=\"Convert this dataframe to an interactive table.\"\n",
              "              style=\"display:none;\">\n",
              "        \n",
              "  <svg xmlns=\"http://www.w3.org/2000/svg\" height=\"24px\"viewBox=\"0 0 24 24\"\n",
              "       width=\"24px\">\n",
              "    <path d=\"M0 0h24v24H0V0z\" fill=\"none\"/>\n",
              "    <path d=\"M18.56 5.44l.94 2.06.94-2.06 2.06-.94-2.06-.94-.94-2.06-.94 2.06-2.06.94zm-11 1L8.5 8.5l.94-2.06 2.06-.94-2.06-.94L8.5 2.5l-.94 2.06-2.06.94zm10 10l.94 2.06.94-2.06 2.06-.94-2.06-.94-.94-2.06-.94 2.06-2.06.94z\"/><path d=\"M17.41 7.96l-1.37-1.37c-.4-.4-.92-.59-1.43-.59-.52 0-1.04.2-1.43.59L10.3 9.45l-7.72 7.72c-.78.78-.78 2.05 0 2.83L4 21.41c.39.39.9.59 1.41.59.51 0 1.02-.2 1.41-.59l7.78-7.78 2.81-2.81c.8-.78.8-2.07 0-2.86zM5.41 20L4 18.59l7.72-7.72 1.47 1.35L5.41 20z\"/>\n",
              "  </svg>\n",
              "      </button>\n",
              "      \n",
              "  <style>\n",
              "    .colab-df-container {\n",
              "      display:flex;\n",
              "      flex-wrap:wrap;\n",
              "      gap: 12px;\n",
              "    }\n",
              "\n",
              "    .colab-df-convert {\n",
              "      background-color: #E8F0FE;\n",
              "      border: none;\n",
              "      border-radius: 50%;\n",
              "      cursor: pointer;\n",
              "      display: none;\n",
              "      fill: #1967D2;\n",
              "      height: 32px;\n",
              "      padding: 0 0 0 0;\n",
              "      width: 32px;\n",
              "    }\n",
              "\n",
              "    .colab-df-convert:hover {\n",
              "      background-color: #E2EBFA;\n",
              "      box-shadow: 0px 1px 2px rgba(60, 64, 67, 0.3), 0px 1px 3px 1px rgba(60, 64, 67, 0.15);\n",
              "      fill: #174EA6;\n",
              "    }\n",
              "\n",
              "    [theme=dark] .colab-df-convert {\n",
              "      background-color: #3B4455;\n",
              "      fill: #D2E3FC;\n",
              "    }\n",
              "\n",
              "    [theme=dark] .colab-df-convert:hover {\n",
              "      background-color: #434B5C;\n",
              "      box-shadow: 0px 1px 3px 1px rgba(0, 0, 0, 0.15);\n",
              "      filter: drop-shadow(0px 1px 2px rgba(0, 0, 0, 0.3));\n",
              "      fill: #FFFFFF;\n",
              "    }\n",
              "  </style>\n",
              "\n",
              "      <script>\n",
              "        const buttonEl =\n",
              "          document.querySelector('#df-de3cd4dd-2dbd-456f-8d88-3d0434f61cd0 button.colab-df-convert');\n",
              "        buttonEl.style.display =\n",
              "          google.colab.kernel.accessAllowed ? 'block' : 'none';\n",
              "\n",
              "        async function convertToInteractive(key) {\n",
              "          const element = document.querySelector('#df-de3cd4dd-2dbd-456f-8d88-3d0434f61cd0');\n",
              "          const dataTable =\n",
              "            await google.colab.kernel.invokeFunction('convertToInteractive',\n",
              "                                                     [key], {});\n",
              "          if (!dataTable) return;\n",
              "\n",
              "          const docLinkHtml = 'Like what you see? Visit the ' +\n",
              "            '<a target=\"_blank\" href=https://colab.research.google.com/notebooks/data_table.ipynb>data table notebook</a>'\n",
              "            + ' to learn more about interactive tables.';\n",
              "          element.innerHTML = '';\n",
              "          dataTable['output_type'] = 'display_data';\n",
              "          await google.colab.output.renderOutput(dataTable, element);\n",
              "          const docLink = document.createElement('div');\n",
              "          docLink.innerHTML = docLinkHtml;\n",
              "          element.appendChild(docLink);\n",
              "        }\n",
              "      </script>\n",
              "    </div>\n",
              "  </div>\n",
              "  "
            ]
          },
          "metadata": {},
          "execution_count": 254
        }
      ]
    },
    {
      "cell_type": "code",
      "source": [
        "unico = (df['TIPO GASTO']).value_counts()\n",
        "unico"
      ],
      "metadata": {
        "colab": {
          "base_uri": "https://localhost:8080/"
        },
        "id": "bPLNxJJTTmgJ",
        "outputId": "8472d9db-edcf-4d91-ef9e-f75a45cbcd5a"
      },
      "execution_count": null,
      "outputs": [
        {
          "output_type": "execute_result",
          "data": {
            "text/plain": [
              "OTROS GASTOS    1871\n",
              "COMPRAS         1471\n",
              "Name: TIPO GASTO, dtype: int64"
            ]
          },
          "metadata": {},
          "execution_count": 255
        }
      ]
    },
    {
      "cell_type": "code",
      "source": [
        "#Declaramos las variables dependientes e independientes para la regresión Logística\n",
        "Vars_Indep= df[['TOTAL MX']]\n",
        "Var_Dep= df['TIPO GASTO']"
      ],
      "metadata": {
        "id": "UpTe1UuRcgnE"
      },
      "execution_count": null,
      "outputs": []
    },
    {
      "cell_type": "code",
      "source": [
        "#Redefinimos las variables \n",
        "X= Vars_Indep\n",
        "y= Var_Dep"
      ],
      "metadata": {
        "id": "wACjx4bAchca"
      },
      "execution_count": null,
      "outputs": []
    },
    {
      "cell_type": "code",
      "source": [
        "#Dividimos el conjunto de datos en la parte de entrenamiento y prueba:\n",
        "X_train, X_test, y_train, y_test = train_test_split(X, y, test_size=0.4, random_state =None)"
      ],
      "metadata": {
        "id": "0SlqN20_ckc5"
      },
      "execution_count": null,
      "outputs": []
    },
    {
      "cell_type": "code",
      "source": [
        "#Se escalan todos los datos\n",
        "escalar = StandardScaler()"
      ],
      "metadata": {
        "id": "MkwSH7-1eZpR"
      },
      "execution_count": null,
      "outputs": []
    },
    {
      "cell_type": "code",
      "source": [
        "#Para realizar el escalamiento de las variables “X” tanto de entrenamiento como de prueba, utilizaremos fit_transform\n",
        "X_train = escalar.fit_transform(X_train)\n",
        "X_test = escalar.transform(X_test)"
      ],
      "metadata": {
        "id": "m7G55cbNefKi"
      },
      "execution_count": null,
      "outputs": []
    },
    {
      "cell_type": "code",
      "source": [
        "#Definimos el algoritmo a utilizar\n",
        "from sklearn.linear_model import LogisticRegression\n",
        "algoritmo = LogisticRegression()"
      ],
      "metadata": {
        "id": "9ODFuBepehxE"
      },
      "execution_count": null,
      "outputs": []
    },
    {
      "cell_type": "code",
      "source": [
        "#Entrenamos el modelo\n",
        "algoritmo.fit(X_train, y_train)"
      ],
      "metadata": {
        "colab": {
          "base_uri": "https://localhost:8080/",
          "height": 75
        },
        "id": "TGoNkF8eej4u",
        "outputId": "3b761792-bacb-442e-941f-5425fa40bd69"
      },
      "execution_count": null,
      "outputs": [
        {
          "output_type": "execute_result",
          "data": {
            "text/plain": [
              "LogisticRegression()"
            ],
            "text/html": [
              "<style>#sk-container-id-13 {color: black;background-color: white;}#sk-container-id-13 pre{padding: 0;}#sk-container-id-13 div.sk-toggleable {background-color: white;}#sk-container-id-13 label.sk-toggleable__label {cursor: pointer;display: block;width: 100%;margin-bottom: 0;padding: 0.3em;box-sizing: border-box;text-align: center;}#sk-container-id-13 label.sk-toggleable__label-arrow:before {content: \"▸\";float: left;margin-right: 0.25em;color: #696969;}#sk-container-id-13 label.sk-toggleable__label-arrow:hover:before {color: black;}#sk-container-id-13 div.sk-estimator:hover label.sk-toggleable__label-arrow:before {color: black;}#sk-container-id-13 div.sk-toggleable__content {max-height: 0;max-width: 0;overflow: hidden;text-align: left;background-color: #f0f8ff;}#sk-container-id-13 div.sk-toggleable__content pre {margin: 0.2em;color: black;border-radius: 0.25em;background-color: #f0f8ff;}#sk-container-id-13 input.sk-toggleable__control:checked~div.sk-toggleable__content {max-height: 200px;max-width: 100%;overflow: auto;}#sk-container-id-13 input.sk-toggleable__control:checked~label.sk-toggleable__label-arrow:before {content: \"▾\";}#sk-container-id-13 div.sk-estimator input.sk-toggleable__control:checked~label.sk-toggleable__label {background-color: #d4ebff;}#sk-container-id-13 div.sk-label input.sk-toggleable__control:checked~label.sk-toggleable__label {background-color: #d4ebff;}#sk-container-id-13 input.sk-hidden--visually {border: 0;clip: rect(1px 1px 1px 1px);clip: rect(1px, 1px, 1px, 1px);height: 1px;margin: -1px;overflow: hidden;padding: 0;position: absolute;width: 1px;}#sk-container-id-13 div.sk-estimator {font-family: monospace;background-color: #f0f8ff;border: 1px dotted black;border-radius: 0.25em;box-sizing: border-box;margin-bottom: 0.5em;}#sk-container-id-13 div.sk-estimator:hover {background-color: #d4ebff;}#sk-container-id-13 div.sk-parallel-item::after {content: \"\";width: 100%;border-bottom: 1px solid gray;flex-grow: 1;}#sk-container-id-13 div.sk-label:hover label.sk-toggleable__label {background-color: #d4ebff;}#sk-container-id-13 div.sk-serial::before {content: \"\";position: absolute;border-left: 1px solid gray;box-sizing: border-box;top: 0;bottom: 0;left: 50%;z-index: 0;}#sk-container-id-13 div.sk-serial {display: flex;flex-direction: column;align-items: center;background-color: white;padding-right: 0.2em;padding-left: 0.2em;position: relative;}#sk-container-id-13 div.sk-item {position: relative;z-index: 1;}#sk-container-id-13 div.sk-parallel {display: flex;align-items: stretch;justify-content: center;background-color: white;position: relative;}#sk-container-id-13 div.sk-item::before, #sk-container-id-13 div.sk-parallel-item::before {content: \"\";position: absolute;border-left: 1px solid gray;box-sizing: border-box;top: 0;bottom: 0;left: 50%;z-index: -1;}#sk-container-id-13 div.sk-parallel-item {display: flex;flex-direction: column;z-index: 1;position: relative;background-color: white;}#sk-container-id-13 div.sk-parallel-item:first-child::after {align-self: flex-end;width: 50%;}#sk-container-id-13 div.sk-parallel-item:last-child::after {align-self: flex-start;width: 50%;}#sk-container-id-13 div.sk-parallel-item:only-child::after {width: 0;}#sk-container-id-13 div.sk-dashed-wrapped {border: 1px dashed gray;margin: 0 0.4em 0.5em 0.4em;box-sizing: border-box;padding-bottom: 0.4em;background-color: white;}#sk-container-id-13 div.sk-label label {font-family: monospace;font-weight: bold;display: inline-block;line-height: 1.2em;}#sk-container-id-13 div.sk-label-container {text-align: center;}#sk-container-id-13 div.sk-container {/* jupyter's `normalize.less` sets `[hidden] { display: none; }` but bootstrap.min.css set `[hidden] { display: none !important; }` so we also need the `!important` here to be able to override the default hidden behavior on the sphinx rendered scikit-learn.org. See: https://github.com/scikit-learn/scikit-learn/issues/21755 */display: inline-block !important;position: relative;}#sk-container-id-13 div.sk-text-repr-fallback {display: none;}</style><div id=\"sk-container-id-13\" class=\"sk-top-container\"><div class=\"sk-text-repr-fallback\"><pre>LogisticRegression()</pre><b>In a Jupyter environment, please rerun this cell to show the HTML representation or trust the notebook. <br />On GitHub, the HTML representation is unable to render, please try loading this page with nbviewer.org.</b></div><div class=\"sk-container\" hidden><div class=\"sk-item\"><div class=\"sk-estimator sk-toggleable\"><input class=\"sk-toggleable__control sk-hidden--visually\" id=\"sk-estimator-id-13\" type=\"checkbox\" checked><label for=\"sk-estimator-id-13\" class=\"sk-toggleable__label sk-toggleable__label-arrow\">LogisticRegression</label><div class=\"sk-toggleable__content\"><pre>LogisticRegression()</pre></div></div></div></div></div>"
            ]
          },
          "metadata": {},
          "execution_count": 262
        }
      ]
    },
    {
      "cell_type": "code",
      "source": [
        "#Realizamos una predicción\n",
        "y_pred = algoritmo.predict(X_test) \n",
        "y_pred"
      ],
      "metadata": {
        "id": "RmhkpqPufPtq",
        "colab": {
          "base_uri": "https://localhost:8080/"
        },
        "outputId": "ebee8de5-6445-4906-c398-04cdc59f96a9"
      },
      "execution_count": null,
      "outputs": [
        {
          "output_type": "execute_result",
          "data": {
            "text/plain": [
              "array(['OTROS GASTOS', 'OTROS GASTOS', 'OTROS GASTOS', ...,\n",
              "       'OTROS GASTOS', 'OTROS GASTOS', 'OTROS GASTOS'], dtype=object)"
            ]
          },
          "metadata": {},
          "execution_count": 263
        }
      ]
    },
    {
      "cell_type": "code",
      "source": [
        "#Verifico la matriz de Confusión\n",
        "from sklearn.metrics import confusion_matrix\n",
        "matriz = confusion_matrix(y_test, y_pred)\n",
        "print('Matriz de Confusión:')\n",
        "print(matriz)"
      ],
      "metadata": {
        "colab": {
          "base_uri": "https://localhost:8080/"
        },
        "id": "HcmoerMWfSgz",
        "outputId": "69540803-3f20-4a23-ad44-a2f531ab2e0a"
      },
      "execution_count": null,
      "outputs": [
        {
          "output_type": "stream",
          "name": "stdout",
          "text": [
            "Matriz de Confusión:\n",
            "[[  0 608]\n",
            " [  1 728]]\n"
          ]
        }
      ]
    },
    {
      "cell_type": "code",
      "source": [
        "#Calculo la precisión del modelo\n",
        "from sklearn.metrics import precision_score\n",
        "\n",
        "precision = precision_score(y_test, y_pred, average=\"weighted\", pos_label=\"COMPRAS\")\n",
        "print('Precisión del modelo:')\n",
        "print(precision)"
      ],
      "metadata": {
        "colab": {
          "base_uri": "https://localhost:8080/"
        },
        "id": "EZLYhQv9ffsZ",
        "outputId": "55abcf5a-a946-4523-b665-e477810e16fb"
      },
      "execution_count": null,
      "outputs": [
        {
          "output_type": "stream",
          "name": "stdout",
          "text": [
            "Precisión del modelo:\n",
            "0.2971125811204815\n"
          ]
        },
        {
          "output_type": "stream",
          "name": "stderr",
          "text": [
            "/usr/local/lib/python3.10/dist-packages/sklearn/metrics/_classification.py:1396: UserWarning: Note that pos_label (set to 'COMPRAS') is ignored when average != 'binary' (got 'weighted'). You may use labels=[pos_label] to specify a single positive class.\n",
            "  warnings.warn(\n"
          ]
        }
      ]
    },
    {
      "cell_type": "code",
      "source": [
        "#Calculo la exactitud del modelo\n",
        "from sklearn.metrics import accuracy_score\n",
        "\n",
        "exactitud = accuracy_score(y_test, y_pred)\n",
        "print('Exactitud del modelo:')\n",
        "print(exactitud)"
      ],
      "metadata": {
        "colab": {
          "base_uri": "https://localhost:8080/"
        },
        "id": "JuQmoNf8gPHT",
        "outputId": "8b45590e-2b12-4c6c-f03d-56372b91f145"
      },
      "execution_count": null,
      "outputs": [
        {
          "output_type": "stream",
          "name": "stdout",
          "text": [
            "Exactitud del modelo:\n",
            "0.5445026178010471\n"
          ]
        }
      ]
    },
    {
      "cell_type": "code",
      "source": [
        "#Calculo la sensibilidad del modelo\n",
        "from sklearn.metrics import recall_score\n",
        "\n",
        "sensibilidad = recall_score(y_test, y_pred, average=\"weighted\", pos_label=\"COMPRAS\")\n",
        "print('Sensibilidad del modelo:')\n",
        "print(sensibilidad)"
      ],
      "metadata": {
        "colab": {
          "base_uri": "https://localhost:8080/"
        },
        "id": "2ROKMocYgRNb",
        "outputId": "0b6cc4c6-4502-4f5f-80dc-5b07bd6141ad"
      },
      "execution_count": null,
      "outputs": [
        {
          "output_type": "stream",
          "name": "stdout",
          "text": [
            "Sensibilidad del modelo:\n",
            "0.5445026178010471\n"
          ]
        },
        {
          "output_type": "stream",
          "name": "stderr",
          "text": [
            "/usr/local/lib/python3.10/dist-packages/sklearn/metrics/_classification.py:1396: UserWarning: Note that pos_label (set to 'COMPRAS') is ignored when average != 'binary' (got 'weighted'). You may use labels=[pos_label] to specify a single positive class.\n",
            "  warnings.warn(\n"
          ]
        }
      ]
    },
    {
      "cell_type": "code",
      "source": [
        "# el puntaje F1 que es una combinación entre la precisión y la sensibilidad, para esto importamos f1_score.\n",
        "#Calculo el Puntaje F1 del modelo\n",
        "from sklearn.metrics import f1_score\n",
        "\n",
        "puntajef1 = f1_score(y_test, y_pred, average=\"weighted\", pos_label=\"COMPRAS\")\n",
        "print('Puntaje F1 del modelo:')\n",
        "print(puntajef1)"
      ],
      "metadata": {
        "colab": {
          "base_uri": "https://localhost:8080/"
        },
        "id": "dpVw7tZ1gUja",
        "outputId": "fdf74299-88b0-4503-80ec-a77218fb80a3"
      },
      "execution_count": null,
      "outputs": [
        {
          "output_type": "stream",
          "name": "stdout",
          "text": [
            "Puntaje F1 del modelo:\n",
            "0.3844478531496013\n"
          ]
        },
        {
          "output_type": "stream",
          "name": "stderr",
          "text": [
            "/usr/local/lib/python3.10/dist-packages/sklearn/metrics/_classification.py:1396: UserWarning: Note that pos_label (set to 'COMPRAS') is ignored when average != 'binary' (got 'weighted'). You may use labels=[pos_label] to specify a single positive class.\n",
            "  warnings.warn(\n"
          ]
        }
      ]
    }
  ]
}